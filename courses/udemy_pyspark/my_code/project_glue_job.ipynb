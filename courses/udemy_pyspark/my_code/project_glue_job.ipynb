{
 "cells": [
  {
   "cell_type": "code",
   "execution_count": 1,
   "metadata": {},
   "outputs": [
    {
     "name": "stderr",
     "output_type": "stream",
     "text": [
      "/usr/local/lib/python3.8/site-packages/pyspark/bin/load-spark-env.sh: line 68: ps: command not found\n",
      "Setting default log level to \"WARN\".\n",
      "To adjust logging level use sc.setLogLevel(newLevel). For SparkR, use setLogLevel(newLevel).\n",
      "23/12/12 15:25:47 WARN NativeCodeLoader: Unable to load native-hadoop library for your platform... using builtin-java classes where applicable\n"
     ]
    }
   ],
   "source": [
    "from pyspark.sql import SparkSession\n",
    "import pyspark.sql.functions as F\n",
    "from pyspark.sql.types import ArrayType, StringType\n",
    "\n",
    "spark = (\n",
    "    SparkSession.builder\n",
    "        .appName(\"cdc\")\n",
    "        .getOrCreate()\n",
    ")"
   ]
  },
  {
   "cell_type": "code",
   "execution_count": 4,
   "metadata": {},
   "outputs": [],
   "source": [
    "# Intial full load\n",
    "df_fl = spark.read.csv(\"../data/LOAD00000001.csv\")\n",
    "\n",
    "df_fl = (\n",
    "    df_fl\n",
    "    .withColumnRenamed(\"_c0\", \"id\")\n",
    "    .withColumnRenamed(\"_c1\", \"fullName\")\n",
    "    .withColumnRenamed(\"_c2\", \"City\")\n",
    ")\n",
    "\n",
    "df_fl.write.mode(\"overwrite\").csv(\"../data/output/final_file.csv\", header=True)\n",
    "df_fl.show(3)\n",
    "\n",
    "\n",
    "# Updates to make on the full load\n",
    "df_update = spark.read.csv(\"../data/20231212-135710944.csv\")\n",
    "df_update = (\n",
    "    df_update\n",
    "    .withColumnRenamed(\"_c0\", \"action\")\n",
    "    .withColumnRenamed(\"_c1\", \"id\")\n",
    "    .withColumnRenamed(\"_c2\", \"fullName\")\n",
    "    .withColumnRenamed(\"_c3\", \"City\")\n",
    ")\n",
    "\n",
    "# Load full data and apply updatesa\n",
    "df_ff = spark.read.options(\n",
    "    inferSchema=True,\n",
    "    header=True\n",
    ").csv(\"../data/output/final_file.csv\")\n",
    "\n",
    "\n",
    "for row in df_update.collect():\n",
    "\n",
    "    act = row[\"action\"]\n",
    "\n",
    "    if act == \"U\":\n",
    "        df_ff = df_ff.withColumn(\"FullName\", F.when(df_ff[\"id\"] == row[\"id\"], row[\"fullName\"]).otherwise(df_ff[\"FullName\"]))      \n",
    "        df_ff = df_ff.withColumn(\"City\", F.when(df_ff[\"id\"] == row[\"id\"], row[\"City\"]).otherwise(df_ff[\"City\"]))\n",
    "    elif act == \"I\":\n",
    "        row_to_insert = [list(row)[1:]]\n",
    "        df_ff = df_ff.union(spark.createDataFrame(row_to_insert, df_ff.columns))\n",
    "    elif act == \"D\":\n",
    "        df_ff = df_ff.filter(df_ff.id != row[\"id\"])\n",
    "\n",
    "\n",
    "df_ff.show()"
   ]
  }
 ],
 "metadata": {
  "kernelspec": {
   "display_name": "Python 3",
   "language": "python",
   "name": "python3"
  },
  "language_info": {
   "codemirror_mode": {
    "name": "ipython",
    "version": 3
   },
   "file_extension": ".py",
   "mimetype": "text/x-python",
   "name": "python",
   "nbconvert_exporter": "python",
   "pygments_lexer": "ipython3",
   "version": "3.8.5"
  }
 },
 "nbformat": 4,
 "nbformat_minor": 2
}
