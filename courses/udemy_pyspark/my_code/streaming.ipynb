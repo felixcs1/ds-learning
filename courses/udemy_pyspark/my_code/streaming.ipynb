{
 "cells": [
  {
   "cell_type": "code",
   "execution_count": 1,
   "metadata": {},
   "outputs": [
    {
     "name": "stderr",
     "output_type": "stream",
     "text": [
      "/usr/local/lib/python3.8/site-packages/pyspark/bin/load-spark-env.sh: line 68: ps: command not found\n",
      "Setting default log level to \"WARN\".\n",
      "To adjust logging level use sc.setLogLevel(newLevel). For SparkR, use setLogLevel(newLevel).\n",
      "23/12/04 09:30:34 WARN NativeCodeLoader: Unable to load native-hadoop library for your platform... using builtin-java classes where applicable\n",
      "/usr/local/lib/python3.8/site-packages/pyspark/streaming/context.py:72: FutureWarning: DStream is deprecated as of Spark 3.4.0. Migrate to Structured Streaming.\n",
      "  warnings.warn(\n"
     ]
    }
   ],
   "source": [
    "from pyspark.streaming import StreamingContext\n",
    "from pyspark import SparkConf, SparkContext\n",
    "\n",
    "conf = SparkConf().setAppName(\"streaming\")\n",
    "sc = SparkContext.getOrCreate(conf=conf)\n",
    "\n",
    "ssc = StreamingContext(sc, 3)"
   ]
  },
  {
   "cell_type": "code",
   "execution_count": 2,
   "metadata": {},
   "outputs": [],
   "source": [
    "rdd = ssc.textFileStream(\"../data/tables/\")"
   ]
  },
  {
   "cell_type": "code",
   "execution_count": 3,
   "metadata": {},
   "outputs": [
    {
     "name": "stderr",
     "output_type": "stream",
     "text": [
      "                                                                                \r"
     ]
    },
    {
     "name": "stdout",
     "output_type": "stream",
     "text": [
      "-------------------------------------------\n",
      "Time: 2023-12-04 09:30:39\n",
      "-------------------------------------------\n",
      "\n",
      "-------------------------------------------\n",
      "Time: 2023-12-04 09:30:42\n",
      "-------------------------------------------\n",
      "('Mic', 10)\n",
      "('Laptop', 5)\n",
      "('Apple', 10)\n",
      "('Chair', 15)\n",
      "('Bag', 5)\n",
      "('Mobile', 5)\n",
      "('Book', 5)\n",
      "\n",
      "-------------------------------------------\n",
      "Time: 2023-12-04 09:30:45\n",
      "-------------------------------------------\n",
      "\n",
      "-------------------------------------------\n",
      "Time: 2023-12-04 09:30:48\n",
      "-------------------------------------------\n",
      "\n",
      "-------------------------------------------\n",
      "Time: 2023-12-04 09:30:51\n",
      "-------------------------------------------\n",
      "\n",
      "-------------------------------------------\n",
      "Time: 2023-12-04 09:30:54\n",
      "-------------------------------------------\n",
      "\n",
      "-------------------------------------------\n",
      "Time: 2023-12-04 09:30:57\n",
      "-------------------------------------------\n",
      "\n",
      "-------------------------------------------\n",
      "Time: 2023-12-04 09:31:00\n",
      "-------------------------------------------\n",
      "\n",
      "-------------------------------------------\n",
      "Time: 2023-12-04 09:31:03\n",
      "-------------------------------------------\n",
      "('Mic', 10)\n",
      "('Laptop', 5)\n",
      "('Apple', 10)\n",
      "('Chair', 15)\n",
      "('Bag', 5)\n",
      "('Mobile', 5)\n",
      "('Book', 5)\n",
      "\n",
      "-------------------------------------------\n",
      "Time: 2023-12-04 09:31:06\n",
      "-------------------------------------------\n",
      "\n"
     ]
    }
   ],
   "source": [
    "rdd = rdd.map(lambda x: (x, 1)).reduceByKey(lambda x,y: x+y)\n",
    "rdd.pprint()\n",
    "\n",
    "# ssc.start()\n",
    "ssc.awaitTerminationOrTimeout(100)"
   ]
  },
  {
   "cell_type": "markdown",
   "metadata": {},
   "source": [
    "# Data frame"
   ]
  },
  {
   "cell_type": "code",
   "execution_count": 11,
   "metadata": {},
   "outputs": [],
   "source": [
    "from pyspark.sql import SparkSession\n",
    "\n",
    "spark = SparkSession.builder.appName(\"Spark stream DF\").getOrCreate()\n",
    "\n",
    "words = spark.readStream.text(\"../data/tables/\")\n",
    "\n",
    "group = words.groupBy(\"value\").count()\n",
    "# course says .outputMode(\"complete\")\n",
    "# words.writeStream.format(\"console\").outputMode(\"append\").start()"
   ]
  },
  {
   "cell_type": "code",
   "execution_count": 12,
   "metadata": {},
   "outputs": [
    {
     "name": "stderr",
     "output_type": "stream",
     "text": [
      "23/12/04 17:43:25 WARN ResolveWriteToStream: Temporary checkpoint location created which is deleted normally when the query didn't fail: /tmp/temporary-54572903-ebf4-42a3-b8df-f5412c3c210f. If it's required to delete it under any circumstances, please set spark.sql.streaming.forceDeleteTempCheckpointLocation to true. Important to know deleting temp checkpoint folder is best effort.\n",
      "23/12/04 17:43:25 WARN ResolveWriteToStream: spark.sql.adaptive.enabled is not supported in streaming DataFrames/Datasets and will be disabled.\n"
     ]
    },
    {
     "data": {
      "text/plain": [
       "<pyspark.sql.streaming.query.StreamingQuery at 0x7ff5f6590ca0>"
      ]
     },
     "execution_count": 12,
     "metadata": {},
     "output_type": "execute_result"
    },
    {
     "name": "stderr",
     "output_type": "stream",
     "text": [
      "                                                                                \r"
     ]
    },
    {
     "name": "stdout",
     "output_type": "stream",
     "text": [
      "-------------------------------------------\n",
      "Batch: 0\n",
      "-------------------------------------------\n",
      "+------+-----+\n",
      "| value|count|\n",
      "+------+-----+\n",
      "|   Mic|   10|\n",
      "| Chair|   15|\n",
      "|  Book|    5|\n",
      "|Laptop|    5|\n",
      "|   Bag|    5|\n",
      "|Mobile|    5|\n",
      "| Apple|   10|\n",
      "+------+-----+\n",
      "\n",
      "-------------------------------------------\n",
      "Batch: 1\n",
      "-------------------------------------------\n",
      "-------------------------------------------\n",
      "Batch: 1\n",
      "-------------------------------------------\n",
      "+------+\n",
      "| value|\n",
      "+------+\n",
      "| Apple|\n",
      "|   Mic|\n",
      "|   Mic|\n",
      "| Apple|\n",
      "|Laptop|\n",
      "| Apple|\n",
      "|   Mic|\n",
      "|   Mic|\n",
      "| Apple|\n",
      "|Laptop|\n",
      "| Chair|\n",
      "| Chair|\n",
      "| Chair|\n",
      "|   Bag|\n",
      "|Mobile|\n",
      "|  Book|\n",
      "| Chair|\n",
      "| Chair|\n",
      "| Chair|\n",
      "|   Bag|\n",
      "+------+\n",
      "only showing top 20 rows\n",
      "\n",
      "-------------------------------------------\n",
      "Batch: 1\n",
      "-------------------------------------------\n",
      "+------+\n",
      "| value|\n",
      "+------+\n",
      "| Apple|\n",
      "|   Mic|\n",
      "|   Mic|\n",
      "| Apple|\n",
      "|Laptop|\n",
      "| Apple|\n",
      "|   Mic|\n",
      "|   Mic|\n",
      "| Apple|\n",
      "|Laptop|\n",
      "| Chair|\n",
      "| Chair|\n",
      "| Chair|\n",
      "|   Bag|\n",
      "|Mobile|\n",
      "|  Book|\n",
      "| Chair|\n",
      "| Chair|\n",
      "| Chair|\n",
      "|   Bag|\n",
      "+------+\n",
      "only showing top 20 rows\n",
      "\n",
      "+------+\n",
      "| value|\n",
      "+------+\n",
      "| Apple|\n",
      "|   Mic|\n",
      "|   Mic|\n",
      "| Apple|\n",
      "|Laptop|\n",
      "| Apple|\n",
      "|   Mic|\n",
      "|   Mic|\n",
      "| Apple|\n",
      "|Laptop|\n",
      "| Chair|\n",
      "| Chair|\n",
      "| Chair|\n",
      "|   Bag|\n",
      "|Mobile|\n",
      "|  Book|\n",
      "| Chair|\n",
      "| Chair|\n",
      "| Chair|\n",
      "|   Bag|\n",
      "+------+\n",
      "only showing top 20 rows\n",
      "\n"
     ]
    },
    {
     "name": "stderr",
     "output_type": "stream",
     "text": [
      "                                                                                \r"
     ]
    },
    {
     "name": "stdout",
     "output_type": "stream",
     "text": [
      "-------------------------------------------\n",
      "Batch: 1\n",
      "-------------------------------------------\n",
      "+------+-----+\n",
      "| value|count|\n",
      "+------+-----+\n",
      "|   Mic|   20|\n",
      "| Chair|   30|\n",
      "|  Book|   10|\n",
      "|Laptop|   10|\n",
      "|   Bag|   10|\n",
      "|Mobile|   10|\n",
      "| Apple|   20|\n",
      "+------+-----+\n",
      "\n"
     ]
    },
    {
     "name": "stderr",
     "output_type": "stream",
     "text": [
      "                                                                                \r"
     ]
    },
    {
     "name": "stdout",
     "output_type": "stream",
     "text": [
      "-------------------------------------------\n",
      "Batch: 1\n",
      "-------------------------------------------\n",
      "+------+-----+\n",
      "| value|count|\n",
      "+------+-----+\n",
      "|   Mic|   20|\n",
      "| Chair|   30|\n",
      "|  Book|   10|\n",
      "|Laptop|   10|\n",
      "|   Bag|   10|\n",
      "|Mobile|   10|\n",
      "| Apple|   20|\n",
      "+------+-----+\n",
      "\n"
     ]
    }
   ],
   "source": [
    "group.writeStream.format(\"console\").outputMode(\"complete\").start()"
   ]
  },
  {
   "cell_type": "code",
   "execution_count": null,
   "metadata": {},
   "outputs": [],
   "source": []
  }
 ],
 "metadata": {
  "kernelspec": {
   "display_name": "Python 3",
   "language": "python",
   "name": "python3"
  },
  "language_info": {
   "codemirror_mode": {
    "name": "ipython",
    "version": 3
   },
   "file_extension": ".py",
   "mimetype": "text/x-python",
   "name": "python",
   "nbconvert_exporter": "python",
   "pygments_lexer": "ipython3",
   "version": "3.8.5"
  }
 },
 "nbformat": 4,
 "nbformat_minor": 2
}
